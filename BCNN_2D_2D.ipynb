{
 "cells": [
  {
   "attachments": {},
   "cell_type": "markdown",
   "metadata": {},
   "source": [
    "# Date: 2013\n",
    "# Method: 2D 2D BCNN\n",
    "# Data: Pavia\n",
    "# Results v.05"
   ]
  },
  {
   "cell_type": "code",
   "execution_count": 1,
   "metadata": {},
   "outputs": [],
   "source": [
    "# Libraries\n",
    "import pandas as pd\n",
    "import numpy as np\n",
    "import seaborn as sn\n",
    "\n",
    "import keras\n",
    "from keras.layers import Conv2D, Conv3D, Flatten, Dense, Reshape, BatchNormalization, Lambda\n",
    "from keras.layers import Dropout, Input\n",
    "from keras.models import Model\n",
    "from keras.optimizers import Adam\n",
    "from keras.callbacks import ModelCheckpoint\n",
    "from keras.utils import np_utils\n",
    "\n",
    "from sklearn.decomposition import PCA\n",
    "from sklearn.model_selection import train_test_split\n",
    "from sklearn.metrics import confusion_matrix, accuracy_score, classification_report, cohen_kappa_score\n",
    "\n",
    "import time\n",
    "\n",
    "from plotly.offline import init_notebook_mode\n",
    "import numpy as np\n",
    "\n",
    "import matplotlib.pyplot as plt\n",
    "import scipy.io as sio\n",
    "import os\n",
    "import spectral\n",
    "\n",
    "import tensorflow as tf\n",
    "import tensorflow_probability as tfp\n",
    "from tensorflow.keras.layers import Dense, Conv2D, MaxPooling2D, Flatten, Dropout\n",
    "from tensorflow.keras.layers import Input, Dense, Conv1D, MaxPooling1D, Dropout, Flatten\n",
    "from tensorflow.keras.models import Sequential\n",
    "from tensorflow.keras.utils import to_categorical\n",
    "\n",
    "tfd = tfp.distributions\n",
    "tfpl = tfp.layers\n",
    "\n"
   ]
  },
  {
   "cell_type": "code",
   "execution_count": null,
   "metadata": {},
   "outputs": [],
   "source": [
    "## VARIABLES\n",
    "\n",
    "test_ratio = 0.3\n",
    "test_val_ratio=0.6\n",
    "\n",
    "train_ratio = 1-test_ratio\n",
    "#train_val_ratio = 0.8\n",
    "\n",
    "\n",
    "windowSize = 15  #  25\n",
    "dimReduction = 80 # dimReduction\n",
    "\n",
    "drop = 0.4"
   ]
  },
  {
   "cell_type": "code",
   "execution_count": null,
   "metadata": {},
   "outputs": [],
   "source": [
    "# Split Data\n",
    "\n",
    "def splitTrainTestSet(X, y, testRatio, randomState=345):\n",
    "    X_train, X_test, y_train, y_test = train_test_split(X, y, test_size=testRatio, random_state=randomState,stratify=y)\n",
    "    return X_train, X_test, y_train, y_test"
   ]
  },
  {
   "cell_type": "code",
   "execution_count": null,
   "metadata": {},
   "outputs": [],
   "source": [
    "# PCA\n",
    "def applyPCA(X, numComponents): # numComponents=64\n",
    "    newX = np.reshape(X, (-1, X.shape[2]))\n",
    "    print(newX.shape)\n",
    "    pca = PCA(n_components=numComponents, whiten=True)\n",
    "    newX = pca.fit_transform(newX)\n",
    "    newX = np.reshape(newX, (X.shape[0],X.shape[1], numComponents))\n",
    "    return newX, pca, pca.explained_variance_ratio_"
   ]
  },
  {
   "cell_type": "code",
   "execution_count": null,
   "metadata": {},
   "outputs": [],
   "source": [
    "# pading With Zeros\n",
    "def padWithZeros(X, margin=2):\n",
    "    newX = np.zeros((X.shape[0] + 2 * margin, X.shape[1] + 2* margin, X.shape[2]),dtype=\"float16\")\n",
    "    x_offset = margin\n",
    "    y_offset = margin\n",
    "    newX[x_offset:X.shape[0] + x_offset, y_offset:X.shape[1] + y_offset, :] = X\n",
    "    return newX"
   ]
  },
  {
   "cell_type": "code",
   "execution_count": null,
   "metadata": {},
   "outputs": [],
   "source": [
    "# Split the hyperspectral image into patches of size windowSize-by-windowSize pixels\n",
    "def Patches_Creating(X, y, windowSize, removeZeroLabels = True):  # windowSize=15, 25\n",
    "    margin = int((windowSize - 1) / 2)\n",
    "    zeroPaddedX = padWithZeros(X, margin=margin)\n",
    "    # split patches\n",
    "    patchesData = np.zeros((X.shape[0] * X.shape[1], windowSize, windowSize, X.shape[2]),dtype=\"float16\")\n",
    "    patchesLabels = np.zeros((X.shape[0] * X.shape[1]),dtype=\"float16\")\n",
    "    patchIndex = 0\n",
    "    for r in range(margin, zeroPaddedX.shape[0] - margin):\n",
    "        for c in range(margin, zeroPaddedX.shape[1] - margin):\n",
    "            patch = zeroPaddedX[r - margin:r + margin + 1, c - margin:c + margin + 1]   \n",
    "            patchesData[patchIndex, :, :, :] = patch\n",
    "            patchesLabels[patchIndex] = y[r-margin, c-margin]\n",
    "            patchIndex = patchIndex + 1\n",
    "    if removeZeroLabels:\n",
    "        patchesData = patchesData[patchesLabels>0,:,:,:]\n",
    "        patchesLabels = patchesLabels[patchesLabels>0]\n",
    "        patchesLabels -= 1\n",
    "    return patchesData, patchesLabels"
   ]
  },
  {
   "cell_type": "code",
   "execution_count": null,
   "metadata": {},
   "outputs": [],
   "source": [
    "# channel_wise_shift\n",
    "def channel_wise_shift(X,numComponents):\n",
    "    X_copy = np.zeros((X.shape[0] , X.shape[1], X.shape[2]))\n",
    "    half = int(numComponents/2)\n",
    "    for i in range(0,half-1):\n",
    "        X_copy[:,:,i] = X[:,:,(half-i)*2-1]\n",
    "    for i in range(half,numComponents):\n",
    "        X_copy[:,:,i] = X[:,:,(i-half)*2]\n",
    "    X = X_copy\n",
    "    return X"
   ]
  },
  {
   "cell_type": "code",
   "execution_count": null,
   "metadata": {},
   "outputs": [
    {
     "name": "stdout",
     "output_type": "stream",
     "text": [
      "X shape: (610, 340, 103)\n",
      "y shape: (610, 340)\n"
     ]
    }
   ],
   "source": [
    "# Read data\n",
    "from scipy.io import loadmat\n",
    "\n",
    "def read_HSI():\n",
    "  X = loadmat('PaviaU.mat')['paviaU']\n",
    "  y = loadmat('PaviaU_gt.mat')['paviaU_gt']\n",
    "  print(f\"X shape: {X.shape}\\ny shape: {y.shape}\")\n",
    "  return X, y\n",
    "\n",
    "X, y = read_HSI()"
   ]
  },
  {
   "cell_type": "code",
   "execution_count": null,
   "metadata": {},
   "outputs": [
    {
     "name": "stdout",
     "output_type": "stream",
     "text": [
      "X shape: (610, 340, 103)\n",
      "y shape: (610, 340)\n",
      "(207400, 103)\n",
      "Xtrain shape: (29943, 15, 15, 80)\n",
      "ytrain shape : (29943,)\n"
     ]
    }
   ],
   "source": [
    "# Load and reshape data for training\n",
    "X0, y0 = read_HSI()\n",
    "#X=X0\n",
    "#y=y0\n",
    "\n",
    "InputShape=(windowSize, windowSize, dimReduction)\n",
    "\n",
    "#X, y = loadData(dataset) channel_wise_shift\n",
    "X1,pca,ratio = applyPCA(X0,numComponents=dimReduction)\n",
    "X2_shifted = channel_wise_shift(X1,dimReduction) # channel-wise shift\n",
    "#X2=X1\n",
    "\n",
    "#print(f\"X0 shape: {X0.shape}\\ny0 shape: {y0.shape}\")\n",
    "#print(f\"X1 shape: {X1.shape}\\nX2 shape: {X2.shape}\")\n",
    "\n",
    "X3, y3 = Patches_Creating(X2_shifted, y0, windowSize=windowSize)\n",
    "Xtrain, Xtest, ytrain, ytest = splitTrainTestSet(X3, y3, test_ratio)\n",
    "\n",
    "\n",
    "print(f\"Xtrain shape: {Xtrain.shape}\\nytrain shape : {ytrain.shape}\")\n",
    "#print(f\"Xtest shape: {Xtest.shape}\\nytest shape : {ytest.shape}\")"
   ]
  },
  {
   "cell_type": "code",
   "execution_count": null,
   "metadata": {},
   "outputs": [],
   "source": [
    "# split data for Training and Testing\n",
    "Xtrain = Xtrain.reshape(-1, windowSize,windowSize, dimReduction)\n",
    "ytrain = np_utils.to_categorical(ytrain)\n",
    "\n",
    "#Xvalid, Xtest, yvalid, ytest = splitTrainTestSet(Xtest, ytest, (test_ratio-train_ratio/train_val_ratio)/test_ratio)\n",
    "Xvalid, Xtest, yvalid, ytest = splitTrainTestSet(Xtest, ytest, test_val_ratio)\n",
    "\n",
    "Xvalid = Xvalid.reshape(-1, windowSize,windowSize, dimReduction)\n",
    "yvalid = np_utils.to_categorical(yvalid)"
   ]
  },
  {
   "cell_type": "code",
   "execution_count": null,
   "metadata": {},
   "outputs": [],
   "source": [
    "# Function to define the spike and slab distribution \n",
    "# => To be used in prior\n",
    "\n",
    "def spike_and_slab(event_shape, dtype):\n",
    "    distribution = tfd.Mixture(\n",
    "        cat=tfd.Categorical(probs=[0.5, 0.5]),\n",
    "        components=[\n",
    "            tfd.Independent(tfd.Normal(\n",
    "                loc=tf.zeros(event_shape, dtype=dtype), \n",
    "                scale=1.0*tf.ones(event_shape, dtype=dtype)),\n",
    "                            reinterpreted_batch_ndims=1),\n",
    "            tfd.Independent(tfd.Normal(\n",
    "                loc=tf.zeros(event_shape, dtype=dtype), \n",
    "                scale=10.0*tf.ones(event_shape, dtype=dtype)),\n",
    "                            reinterpreted_batch_ndims=1)],\n",
    "    name='spike_and_slab')\n",
    "    return distribution"
   ]
  },
  {
   "cell_type": "code",
   "execution_count": null,
   "metadata": {},
   "outputs": [],
   "source": [
    "# Testing Model_ N01\n",
    "from tensorflow.keras.optimizers import RMSprop\n",
    "\n",
    "def nll(y_true, y_pred):\n",
    "    return -y_pred.log_prob(y_true)"
   ]
  },
  {
   "cell_type": "code",
   "execution_count": null,
   "metadata": {},
   "outputs": [],
   "source": [
    "#Testing Model_ N01\n",
    "from tensorflow.keras.optimizers import Adam\n",
    "from tensorflow.keras.callbacks import EarlyStopping, ModelCheckpoint, TensorBoard\n",
    "\n",
    "def negative_log_likelihood(y_true, y_pred):\n",
    "    return -y_pred.log_prob(y_true)"
   ]
  },
  {
   "cell_type": "markdown",
   "metadata": {},
   "source": [
    "Model_ N02"
   ]
  },
  {
   "cell_type": "code",
   "execution_count": null,
   "metadata": {},
   "outputs": [
    {
     "name": "stderr",
     "output_type": "stream",
     "text": [
      "c:\\Users\\kifah\\anaconda3\\lib\\site-packages\\tensorflow_probability\\python\\layers\\util.py:95: UserWarning:\n",
      "\n",
      "`layer.add_variable` is deprecated and will be removed in a future version. Please use the `layer.add_weight()` method instead.\n",
      "\n",
      "c:\\Users\\kifah\\anaconda3\\lib\\site-packages\\tensorflow_probability\\python\\layers\\util.py:105: UserWarning:\n",
      "\n",
      "`layer.add_variable` is deprecated and will be removed in a future version. Please use the `layer.add_weight()` method instead.\n",
      "\n"
     ]
    },
    {
     "name": "stdout",
     "output_type": "stream",
     "text": [
      "Model: \"sequential\"\n",
      "_________________________________________________________________\n",
      " Layer (type)                Output Shape              Param #   \n",
      "=================================================================\n",
      " conv2d_reparameterization (  (None, 14, 14, 4)        2568      \n",
      " Conv2DReparameterization)                                       \n",
      "                                                                 \n",
      " max_pooling2d (MaxPooling2D  (None, 13, 13, 4)        0         \n",
      " )                                                               \n",
      "                                                                 \n",
      " conv2d (Conv2D)             (None, 12, 12, 32)        544       \n",
      "                                                                 \n",
      " max_pooling2d_1 (MaxPooling  (None, 11, 11, 32)       0         \n",
      " 2D)                                                             \n",
      "                                                                 \n",
      " flatten (Flatten)           (None, 3872)              0         \n",
      "                                                                 \n",
      " dense (Dense)               (None, 512)               1982976   \n",
      "                                                                 \n",
      " dropout (Dropout)           (None, 512)               0         \n",
      "                                                                 \n",
      " dense_reparameterization (D  (None, 9)                9234      \n",
      " enseReparameterization)                                         \n",
      "                                                                 \n",
      " one_hot_categorical (OneHot  ((None, 9),              0         \n",
      " Categorical)                 (None, 9))                         \n",
      "                                                                 \n",
      "=================================================================\n",
      "Total params: 1,995,322\n",
      "Trainable params: 1,995,322\n",
      "Non-trainable params: 0\n",
      "_________________________________________________________________\n"
     ]
    }
   ],
   "source": [
    "# Testing Model_ N02\n",
    "# Basian deep neural network (BCNN)\n",
    "divergence_fn = lambda q,p,_:tfd.kl_divergence(q,p)/len(Xtrain)   #3457\n",
    "\n",
    "# BCNN model\n",
    "#\n",
    "model_bayes = Sequential([\n",
    "    # Statistical 2D conv\n",
    "    tfpl.Convolution2DReparameterization(input_shape=InputShape, filters=4, kernel_size=2, activation='relu',\n",
    "                                           kernel_prior_fn = tfpl.default_multivariate_normal_fn,\n",
    "                                           kernel_posterior_fn=tfpl.default_mean_field_normal_fn(is_singular=False),\n",
    "                                           kernel_divergence_fn = divergence_fn,\n",
    "                                           bias_prior_fn = tfpl.default_multivariate_normal_fn,\n",
    "                                           bias_posterior_fn=tfpl.default_mean_field_normal_fn(is_singular=False),\n",
    "                                           bias_divergence_fn = divergence_fn),\n",
    "    MaxPooling2D(2,1),\n",
    "    Conv2D(32, (2,2), activation='relu'),\n",
    "    MaxPooling2D(2,1),\n",
    "    Flatten(),\n",
    "    Dense(512, activation='relu'),\n",
    "    Dropout(0.2),\n",
    "    # Statistical Dense-\n",
    "    tfpl.DenseReparameterization(units=tfpl.OneHotCategorical.params_size(9), activation=None,\n",
    "                                    kernel_prior_fn = tfpl.default_multivariate_normal_fn,\n",
    "                                    kernel_posterior_fn=tfpl.default_mean_field_normal_fn(is_singular=False),\n",
    "                                    kernel_divergence_fn = divergence_fn,\n",
    "                                    bias_prior_fn = tfpl.default_multivariate_normal_fn,\n",
    "                                    bias_posterior_fn=tfpl.default_mean_field_normal_fn(is_singular=False),\n",
    "                                    bias_divergence_fn = divergence_fn\n",
    "                                ),\n",
    "    # output-\n",
    "    tfpl.OneHotCategorical(9)\n",
    "    \n",
    "])\n",
    "model_bayes.summary()\n",
    "\n"
   ]
  },
  {
   "cell_type": "code",
   "execution_count": null,
   "metadata": {},
   "outputs": [],
   "source": [
    "# Testing Model_ N02\n",
    "# Comiple\n",
    "\n",
    "model_bayes.compile(loss = negative_log_likelihood,\n",
    "              optimizer = Adam(learning_rate=0.001), #0.005\n",
    "              metrics = ['accuracy'],\n",
    "              experimental_run_tf_function = False)"
   ]
  },
  {
   "cell_type": "code",
   "execution_count": null,
   "metadata": {},
   "outputs": [
    {
     "name": "stdout",
     "output_type": "stream",
     "text": [
      "Epoch 1/20\n",
      "59/59 [==============================] - 10s 160ms/step - loss: 0.5209 - accuracy: 0.9700 - val_loss: 0.5123 - val_accuracy: 0.9708\n",
      "Epoch 2/20\n",
      "59/59 [==============================] - 9s 148ms/step - loss: 0.5065 - accuracy: 0.9734 - val_loss: 0.4965 - val_accuracy: 0.9817\n",
      "Epoch 3/20\n",
      "59/59 [==============================] - 8s 139ms/step - loss: 0.4985 - accuracy: 0.9759 - val_loss: 0.4963 - val_accuracy: 0.9801\n",
      "Epoch 4/20\n",
      "59/59 [==============================] - 8s 141ms/step - loss: 0.4864 - accuracy: 0.9801 - val_loss: 0.4850 - val_accuracy: 0.9842\n",
      "Epoch 5/20\n",
      "59/59 [==============================] - 8s 140ms/step - loss: 0.4823 - accuracy: 0.9820 - val_loss: 0.4817 - val_accuracy: 0.9821\n",
      "Epoch 6/20\n",
      "59/59 [==============================] - 8s 139ms/step - loss: 0.4719 - accuracy: 0.9841 - val_loss: 0.4670 - val_accuracy: 0.9875\n",
      "Epoch 7/20\n",
      "59/59 [==============================] - 8s 143ms/step - loss: 0.4653 - accuracy: 0.9857 - val_loss: 0.4690 - val_accuracy: 0.9906\n",
      "Epoch 8/20\n",
      "59/59 [==============================] - 9s 144ms/step - loss: 0.4584 - accuracy: 0.9878 - val_loss: 0.4567 - val_accuracy: 0.9893\n",
      "Epoch 9/20\n",
      "59/59 [==============================] - 8s 143ms/step - loss: 0.4561 - accuracy: 0.9875 - val_loss: 0.4557 - val_accuracy: 0.9899\n",
      "Epoch 10/20\n",
      "59/59 [==============================] - 8s 143ms/step - loss: 0.4471 - accuracy: 0.9900 - val_loss: 0.4535 - val_accuracy: 0.9889\n",
      "Epoch 11/20\n",
      "59/59 [==============================] - 8s 143ms/step - loss: 0.4463 - accuracy: 0.9903 - val_loss: 0.4467 - val_accuracy: 0.9895\n",
      "Epoch 12/20\n",
      "59/59 [==============================] - 8s 144ms/step - loss: 0.4372 - accuracy: 0.9916 - val_loss: 0.4338 - val_accuracy: 0.9916\n",
      "Epoch 13/20\n",
      "59/59 [==============================] - 8s 142ms/step - loss: 0.4329 - accuracy: 0.9923 - val_loss: 0.4290 - val_accuracy: 0.9938\n",
      "Epoch 14/20\n",
      "59/59 [==============================] - 8s 142ms/step - loss: 0.4265 - accuracy: 0.9928 - val_loss: 0.4287 - val_accuracy: 0.9914\n",
      "Epoch 15/20\n",
      "59/59 [==============================] - 8s 142ms/step - loss: 0.4223 - accuracy: 0.9938 - val_loss: 0.4283 - val_accuracy: 0.9906\n",
      "Epoch 16/20\n",
      "59/59 [==============================] - 8s 142ms/step - loss: 0.4179 - accuracy: 0.9936 - val_loss: 0.4208 - val_accuracy: 0.9924\n",
      "Epoch 17/20\n",
      "59/59 [==============================] - 8s 143ms/step - loss: 0.4107 - accuracy: 0.9957 - val_loss: 0.4125 - val_accuracy: 0.9942\n",
      "Epoch 18/20\n",
      "59/59 [==============================] - 9s 144ms/step - loss: 0.4053 - accuracy: 0.9955 - val_loss: 0.4070 - val_accuracy: 0.9951\n",
      "Epoch 19/20\n",
      "59/59 [==============================] - 9s 145ms/step - loss: 0.4026 - accuracy: 0.9954 - val_loss: 0.4026 - val_accuracy: 0.9944\n",
      "Epoch 20/20\n",
      "59/59 [==============================] - 8s 141ms/step - loss: 0.3972 - accuracy: 0.9960 - val_loss: 0.4052 - val_accuracy: 0.9944\n"
     ]
    }
   ],
   "source": [
    "# Testing Model_ N02\n",
    "# Train\n",
    "hist = model_bayes.fit(Xtrain, \n",
    "                       ytrain, \n",
    "                       epochs = 20, \n",
    "                       batch_size = 512 , \n",
    "                       validation_data = (Xvalid, yvalid)    )"
   ]
  },
  {
   "cell_type": "code",
   "execution_count": null,
   "metadata": {},
   "outputs": [
    {
     "data": {
      "image/png": "[encoded data removed]",
      "text/plain": [
       "<Figure size 720x576 with 1 Axes>"
      ]
     },
     "metadata": {},
     "output_type": "display_data"
    }
   ],
   "source": [
    "# Plot accuracy\n",
    "plt.figure(figsize=(10,8))\n",
    "plt.ylim(0,1.1)\n",
    "plt.grid()\n",
    "plt.plot(hist.history['accuracy'])\n",
    "plt.ylabel('Accuracy')\n",
    "plt.xlabel('Epochs')\n",
    "plt.legend(['Training','Validation'])\n",
    "plt.savefig(\"acc_curve.pdf\")\n",
    "plt.show()"
   ]
  },
  {
   "cell_type": "code",
   "execution_count": null,
   "metadata": {},
   "outputs": [],
   "source": [
    "# 9 classes\n",
    "names = ['1. Asphalt', '2. Meadows', '3. Gravel', '4. Trees', \n",
    "                 '5. Painted metal sheets','6. Bare Soil', '7. Bitumen', \n",
    "                 '8. Self-Blocking Bricks', '9. Shadows']"
   ]
  },
  {
   "cell_type": "code",
   "execution_count": null,
   "metadata": {},
   "outputs": [
    {
     "name": "stdout",
     "output_type": "stream",
     "text": [
      "241/241 [==============================] - 1s 5ms/step\n"
     ]
    },
    {
     "data": {
      "image/png": "[encoded data removed]",
      "text/plain": [
       "<Figure size 720x576 with 2 Axes>"
      ]
     },
     "metadata": {},
     "output_type": "display_data"
    }
   ],
   "source": [
    "# confusion_matrix\n",
    "Y_pred = model_bayes.predict(Xtest)\n",
    "y_pred = np.argmax(Y_pred, axis=1)\n",
    "\n",
    "confusion = confusion_matrix(ytest, y_pred)\n",
    "df_cm = pd.DataFrame(confusion, columns=np.unique(names), index = np.unique(names))\n",
    "df_cm.index.name = 'Actual'\n",
    "df_cm.columns.name = 'Predicted'\n",
    "plt.figure(figsize = (10,8))\n",
    "sn.set(font_scale=1.4)#for label size\n",
    "sn.heatmap(df_cm, cmap=\"Reds\", annot=True,annot_kws={\"size\": 16}, fmt='d')\n",
    "plt.savefig('cmap.png', dpi=300)\n"
   ]
  },
  {
   "cell_type": "code",
   "execution_count": null,
   "metadata": {},
   "outputs": [],
   "source": [
    "# average_acc\n",
    "from operator import itemgetter\n",
    "def AA_andEachClassAccuracy(confusion_matrix):\n",
    "    counter = confusion_matrix.shape[0]\n",
    "    list_diag = np.diag(confusion_matrix)\n",
    "    list_raw_sum = np.sum(confusion_matrix, axis=1)\n",
    "    each_acc = np.nan_to_num((list_diag/ list_raw_sum))\n",
    "    average_acc = np.mean(each_acc)\n",
    "    return each_acc, average_acc"
   ]
  },
  {
   "cell_type": "code",
   "execution_count": null,
   "metadata": {},
   "outputs": [
    {
     "name": "stdout",
     "output_type": "stream",
     "text": [
      "accuracy for each:\n",
      "[0.98659966 1.         0.99206349 0.98548094 0.99586777 1.\n",
      " 1.         0.98642534 1.        ]\n",
      "OA accuracy:\n",
      "0.9940485787505923\n"
     ]
    }
   ],
   "source": [
    "# average_acc\n",
    "\n",
    "each_acc, aa = AA_andEachClassAccuracy(confusion)\n",
    "print(\"accuracy for each:\")\n",
    "print (each_acc)\n",
    "\n",
    "print(\"OA accuracy:\")\n",
    "print(aa)"
   ]
  },
  {
   "cell_type": "code",
   "execution_count": null,
   "metadata": {},
   "outputs": [
    {
     "name": "stdout",
     "output_type": "stream",
     "text": [
      "                         precision    recall  f1-score   support\n",
      "\n",
      "             1. Asphalt      0.998     0.987     0.992      1194\n",
      "             2. Meadows      0.998     1.000     0.999      3357\n",
      "              3. Gravel      0.984     0.992     0.988       378\n",
      "               4. Trees      0.995     0.985     0.990       551\n",
      "5. Painted metal sheets      1.000     0.996     0.998       242\n",
      "           6. Bare Soil      0.996     1.000     0.998       906\n",
      "             7. Bitumen      0.996     1.000     0.998       239\n",
      "8. Self-Blocking Bricks      0.985     0.986     0.986       663\n",
      "             9. Shadows      0.977     1.000     0.988       170\n",
      "\n",
      "               accuracy                          0.995      7700\n",
      "              macro avg      0.992     0.994     0.993      7700\n",
      "           weighted avg      0.995     0.995     0.995      7700\n",
      "\n"
     ]
    }
   ],
   "source": [
    "# classification_report\n",
    "print(classification_report(ytest, y_pred, target_names = names, digits = 3))"
   ]
  },
  {
   "cell_type": "code",
   "execution_count": null,
   "metadata": {},
   "outputs": [],
   "source": [
    "# Calculation  the predicted image\n",
    "def Patch(data,height_index,width_index):\n",
    "    height_slice = slice(height_index, height_index+PATCH_SIZE)\n",
    "    width_slice = slice(width_index, width_index+PATCH_SIZE)\n",
    "    patch = data[height_slice, width_slice, :]\n",
    "    return patch"
   ]
  },
  {
   "cell_type": "code",
   "execution_count": null,
   "metadata": {},
   "outputs": [],
   "source": [
    "# Calculation  the predicted image\n",
    "PATCH_SIZE = windowSize\n",
    "#X2_shifted, y0\n",
    "\n",
    "#X,pca,ratio = applyPCA(X0,numComponents=40)\n",
    "\n",
    "X = padWithZeros(X2_shifted, PATCH_SIZE//2) # PATCH_SIZE=15,  PATCH_SIZE//2=7\n",
    "height = y0.shape[0]\n",
    "width = y0.shape[1]\n"
   ]
  },
  {
   "cell_type": "code",
   "execution_count": null,
   "metadata": {},
   "outputs": [],
   "source": [
    "# the predicted image\n",
    "\n",
    "outputs = np.zeros((height,width),dtype=\"float16\")\n",
    "outputs2 = np.zeros((height,width),dtype=\"float16\")\n",
    "for i in range(0,height,1):\n",
    "    for j in range(0,width,1):            \n",
    "        target = int(y0[i,j])\n",
    "        if target == 0 :\n",
    "            image_patch=Patch(X,i,j)\n",
    "            X_test_image = image_patch.reshape(1,image_patch.shape[0],image_patch.shape[1], image_patch.shape[2]).astype('float32')                                   \n",
    "            prediction2 = (model_bayes.predict(X_test_image))\n",
    "            prediction2 = np.argmax(prediction2, axis=1)\n",
    "            outputs2[i][j] = prediction2+1\n",
    "            print(i); print(j)\n",
    "            #print(outputs2[i][j])\n",
    "        else :\n",
    "            image_patch=Patch(X,i,j)\n",
    "            X_test_image = image_patch.reshape(1,image_patch.shape[0],image_patch.shape[1], image_patch.shape[2]).astype('float32')                                   \n",
    "            prediction = (model_bayes.predict(X_test_image))\n",
    "            prediction = np.argmax(prediction, axis=1)\n",
    "            outputs[i][j] = prediction+1\n",
    "            outputs2[i][j] = prediction+1\n",
    "            #print(\"target=1\")\n",
    "            #print(outputs2[i][j])\n"
   ]
  },
  {
   "cell_type": "code",
   "execution_count": null,
   "metadata": {},
   "outputs": [],
   "source": [
    "\n",
    "import spectral\n",
    "ground_truth = spectral.imshow(classes = y0,figsize =(10,8),cmap='nipy_spectral'); plt.colorbar()\n",
    "\n",
    "\n",
    "predict_image = spectral.imshow(classes = outputs.astype(int),figsize =(7,7),cmap='nipy_spectral')\n",
    "predict_image2 = spectral.imshow(classes = outputs2.astype(int),figsize =(7,7))\n",
    "\n",
    "#spectral.save_rgb(\"predictions.png\", outputs.astype(int), colors=spectral.spy_colors)\n",
    "#spectral.save_rgb(\"predictions2.png\", outputs2.astype(int), colors=spectral.spy_colors)\n",
    "\n"
   ]
  },
  {
   "cell_type": "code",
   "execution_count": null,
   "metadata": {},
   "outputs": [],
   "source": []
  }
 ],
 "metadata": {
  "kernelspec": {
   "display_name": "Python 3 (ipykernel)",
   "language": "python",
   "name": "python3"
  },
  "language_info": {
   "codemirror_mode": {
    "name": "ipython",
    "version": 3
   },
   "file_extension": ".py",
   "mimetype": "text/x-python",
   "name": "python",
   "nbconvert_exporter": "python",
   "pygments_lexer": "ipython3",
   "version": "3.8.8"
  },
  "vscode": {
   "interpreter": {
    "hash": "e6bb5985e9478a1c6f23a1042a67dc6de8f4084453231cc6b1b0c508562bec9d"
   }
  }
 },
 "nbformat": 4,
 "nbformat_minor": 2
}
